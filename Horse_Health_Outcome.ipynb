{
 "cells": [
  {
   "cell_type": "code",
   "execution_count": 1,
   "metadata": {},
   "outputs": [],
   "source": [
    "import numpy as np\n",
    "import pandas as pd\n",
    "\n",
    "import matplotlib.pyplot as plt\n",
    "import seaborn as sns\n",
    "\n",
    "from sklearn.model_selection import KFold"
   ]
  },
  {
   "cell_type": "markdown",
   "metadata": {},
   "source": [
    "## 1. Loading the dataset"
   ]
  },
  {
   "cell_type": "code",
   "execution_count": 2,
   "metadata": {},
   "outputs": [
    {
     "data": {
      "text/plain": [
       "((1235, 29), (824, 28))"
      ]
     },
     "execution_count": 2,
     "metadata": {},
     "output_type": "execute_result"
    }
   ],
   "source": [
    "train_df = pd.read_csv(\"./playground-series-s3e22/train.csv\")\n",
    "test_df = pd.read_csv(\"./playground-series-s3e22/test.csv\")\n",
    "\n",
    "train_df.shape, test_df.shape"
   ]
  },
  {
   "cell_type": "markdown",
   "metadata": {},
   "source": [
    "## 2. EDA"
   ]
  },
  {
   "cell_type": "code",
   "execution_count": 3,
   "metadata": {},
   "outputs": [
    {
     "data": {
      "text/html": [
       "<div>\n",
       "<style scoped>\n",
       "    .dataframe tbody tr th:only-of-type {\n",
       "        vertical-align: middle;\n",
       "    }\n",
       "\n",
       "    .dataframe tbody tr th {\n",
       "        vertical-align: top;\n",
       "    }\n",
       "\n",
       "    .dataframe thead th {\n",
       "        text-align: right;\n",
       "    }\n",
       "</style>\n",
       "<table border=\"1\" class=\"dataframe\">\n",
       "  <thead>\n",
       "    <tr style=\"text-align: right;\">\n",
       "      <th></th>\n",
       "      <th>id</th>\n",
       "      <th>surgery</th>\n",
       "      <th>age</th>\n",
       "      <th>hospital_number</th>\n",
       "      <th>rectal_temp</th>\n",
       "      <th>pulse</th>\n",
       "      <th>respiratory_rate</th>\n",
       "      <th>temp_of_extremities</th>\n",
       "      <th>peripheral_pulse</th>\n",
       "      <th>mucous_membrane</th>\n",
       "      <th>...</th>\n",
       "      <th>packed_cell_volume</th>\n",
       "      <th>total_protein</th>\n",
       "      <th>abdomo_appearance</th>\n",
       "      <th>abdomo_protein</th>\n",
       "      <th>surgical_lesion</th>\n",
       "      <th>lesion_1</th>\n",
       "      <th>lesion_2</th>\n",
       "      <th>lesion_3</th>\n",
       "      <th>cp_data</th>\n",
       "      <th>outcome</th>\n",
       "    </tr>\n",
       "  </thead>\n",
       "  <tbody>\n",
       "    <tr>\n",
       "      <th>0</th>\n",
       "      <td>0</td>\n",
       "      <td>yes</td>\n",
       "      <td>adult</td>\n",
       "      <td>530001</td>\n",
       "      <td>38.1</td>\n",
       "      <td>132.0</td>\n",
       "      <td>24.0</td>\n",
       "      <td>cool</td>\n",
       "      <td>reduced</td>\n",
       "      <td>dark_cyanotic</td>\n",
       "      <td>...</td>\n",
       "      <td>57.0</td>\n",
       "      <td>8.5</td>\n",
       "      <td>serosanguious</td>\n",
       "      <td>3.4</td>\n",
       "      <td>yes</td>\n",
       "      <td>2209</td>\n",
       "      <td>0</td>\n",
       "      <td>0</td>\n",
       "      <td>no</td>\n",
       "      <td>died</td>\n",
       "    </tr>\n",
       "    <tr>\n",
       "      <th>1</th>\n",
       "      <td>1</td>\n",
       "      <td>yes</td>\n",
       "      <td>adult</td>\n",
       "      <td>533836</td>\n",
       "      <td>37.5</td>\n",
       "      <td>88.0</td>\n",
       "      <td>12.0</td>\n",
       "      <td>cool</td>\n",
       "      <td>normal</td>\n",
       "      <td>pale_cyanotic</td>\n",
       "      <td>...</td>\n",
       "      <td>33.0</td>\n",
       "      <td>64.0</td>\n",
       "      <td>serosanguious</td>\n",
       "      <td>2.0</td>\n",
       "      <td>yes</td>\n",
       "      <td>2208</td>\n",
       "      <td>0</td>\n",
       "      <td>0</td>\n",
       "      <td>no</td>\n",
       "      <td>euthanized</td>\n",
       "    </tr>\n",
       "    <tr>\n",
       "      <th>2</th>\n",
       "      <td>2</td>\n",
       "      <td>yes</td>\n",
       "      <td>adult</td>\n",
       "      <td>529812</td>\n",
       "      <td>38.3</td>\n",
       "      <td>120.0</td>\n",
       "      <td>28.0</td>\n",
       "      <td>cool</td>\n",
       "      <td>reduced</td>\n",
       "      <td>pale_pink</td>\n",
       "      <td>...</td>\n",
       "      <td>37.0</td>\n",
       "      <td>6.4</td>\n",
       "      <td>serosanguious</td>\n",
       "      <td>3.4</td>\n",
       "      <td>yes</td>\n",
       "      <td>5124</td>\n",
       "      <td>0</td>\n",
       "      <td>0</td>\n",
       "      <td>no</td>\n",
       "      <td>lived</td>\n",
       "    </tr>\n",
       "    <tr>\n",
       "      <th>3</th>\n",
       "      <td>3</td>\n",
       "      <td>yes</td>\n",
       "      <td>adult</td>\n",
       "      <td>5262541</td>\n",
       "      <td>37.1</td>\n",
       "      <td>72.0</td>\n",
       "      <td>30.0</td>\n",
       "      <td>cold</td>\n",
       "      <td>reduced</td>\n",
       "      <td>pale_pink</td>\n",
       "      <td>...</td>\n",
       "      <td>53.0</td>\n",
       "      <td>7.0</td>\n",
       "      <td>cloudy</td>\n",
       "      <td>3.9</td>\n",
       "      <td>yes</td>\n",
       "      <td>2208</td>\n",
       "      <td>0</td>\n",
       "      <td>0</td>\n",
       "      <td>yes</td>\n",
       "      <td>lived</td>\n",
       "    </tr>\n",
       "    <tr>\n",
       "      <th>4</th>\n",
       "      <td>4</td>\n",
       "      <td>no</td>\n",
       "      <td>adult</td>\n",
       "      <td>5299629</td>\n",
       "      <td>38.0</td>\n",
       "      <td>52.0</td>\n",
       "      <td>48.0</td>\n",
       "      <td>normal</td>\n",
       "      <td>normal</td>\n",
       "      <td>normal_pink</td>\n",
       "      <td>...</td>\n",
       "      <td>47.0</td>\n",
       "      <td>7.3</td>\n",
       "      <td>cloudy</td>\n",
       "      <td>2.6</td>\n",
       "      <td>no</td>\n",
       "      <td>0</td>\n",
       "      <td>0</td>\n",
       "      <td>0</td>\n",
       "      <td>yes</td>\n",
       "      <td>lived</td>\n",
       "    </tr>\n",
       "  </tbody>\n",
       "</table>\n",
       "<p>5 rows × 29 columns</p>\n",
       "</div>"
      ],
      "text/plain": [
       "   id surgery    age  hospital_number  rectal_temp  pulse  respiratory_rate  \\\n",
       "0   0     yes  adult           530001         38.1  132.0              24.0   \n",
       "1   1     yes  adult           533836         37.5   88.0              12.0   \n",
       "2   2     yes  adult           529812         38.3  120.0              28.0   \n",
       "3   3     yes  adult          5262541         37.1   72.0              30.0   \n",
       "4   4      no  adult          5299629         38.0   52.0              48.0   \n",
       "\n",
       "  temp_of_extremities peripheral_pulse mucous_membrane  ...  \\\n",
       "0                cool          reduced   dark_cyanotic  ...   \n",
       "1                cool           normal   pale_cyanotic  ...   \n",
       "2                cool          reduced       pale_pink  ...   \n",
       "3                cold          reduced       pale_pink  ...   \n",
       "4              normal           normal     normal_pink  ...   \n",
       "\n",
       "  packed_cell_volume total_protein abdomo_appearance abdomo_protein  \\\n",
       "0               57.0           8.5     serosanguious            3.4   \n",
       "1               33.0          64.0     serosanguious            2.0   \n",
       "2               37.0           6.4     serosanguious            3.4   \n",
       "3               53.0           7.0            cloudy            3.9   \n",
       "4               47.0           7.3            cloudy            2.6   \n",
       "\n",
       "  surgical_lesion lesion_1  lesion_2 lesion_3 cp_data     outcome  \n",
       "0             yes     2209         0        0      no        died  \n",
       "1             yes     2208         0        0      no  euthanized  \n",
       "2             yes     5124         0        0      no       lived  \n",
       "3             yes     2208         0        0     yes       lived  \n",
       "4              no        0         0        0     yes       lived  \n",
       "\n",
       "[5 rows x 29 columns]"
      ]
     },
     "execution_count": 3,
     "metadata": {},
     "output_type": "execute_result"
    }
   ],
   "source": [
    "train_df.head()"
   ]
  },
  {
   "cell_type": "code",
   "execution_count": 4,
   "metadata": {},
   "outputs": [
    {
     "data": {
      "text/plain": [
       "676    distend_small\n",
       "Name: peristalsis, dtype: object"
      ]
     },
     "execution_count": 4,
     "metadata": {},
     "output_type": "execute_result"
    }
   ],
   "source": [
    "train_df['peristalsis'].loc[train_df['peristalsis'] == 'distend_small']"
   ]
  },
  {
   "cell_type": "code",
   "execution_count": 5,
   "metadata": {},
   "outputs": [
    {
     "data": {
      "text/plain": [
       "array(['died', 'euthanized', 'lived'], dtype=object)"
      ]
     },
     "execution_count": 5,
     "metadata": {},
     "output_type": "execute_result"
    }
   ],
   "source": [
    "train_df.outcome.unique()"
   ]
  },
  {
   "cell_type": "markdown",
   "metadata": {},
   "source": [
    "There are 3 possible outcomes of each horse treatment"
   ]
  },
  {
   "cell_type": "code",
   "execution_count": 6,
   "metadata": {},
   "outputs": [
    {
     "name": "stdout",
     "output_type": "stream",
     "text": [
      "<class 'pandas.core.frame.DataFrame'>\n",
      "RangeIndex: 1235 entries, 0 to 1234\n",
      "Data columns (total 29 columns):\n",
      " #   Column                 Non-Null Count  Dtype  \n",
      "---  ------                 --------------  -----  \n",
      " 0   id                     1235 non-null   int64  \n",
      " 1   surgery                1235 non-null   object \n",
      " 2   age                    1235 non-null   object \n",
      " 3   hospital_number        1235 non-null   int64  \n",
      " 4   rectal_temp            1235 non-null   float64\n",
      " 5   pulse                  1235 non-null   float64\n",
      " 6   respiratory_rate       1235 non-null   float64\n",
      " 7   temp_of_extremities    1235 non-null   object \n",
      " 8   peripheral_pulse       1235 non-null   object \n",
      " 9   mucous_membrane        1235 non-null   object \n",
      " 10  capillary_refill_time  1235 non-null   object \n",
      " 11  pain                   1235 non-null   object \n",
      " 12  peristalsis            1235 non-null   object \n",
      " 13  abdominal_distention   1235 non-null   object \n",
      " 14  nasogastric_tube       1235 non-null   object \n",
      " 15  nasogastric_reflux     1235 non-null   object \n",
      " 16  nasogastric_reflux_ph  1235 non-null   float64\n",
      " 17  rectal_exam_feces      1235 non-null   object \n",
      " 18  abdomen                1235 non-null   object \n",
      " 19  packed_cell_volume     1235 non-null   float64\n",
      " 20  total_protein          1235 non-null   float64\n",
      " 21  abdomo_appearance      1235 non-null   object \n",
      " 22  abdomo_protein         1235 non-null   float64\n",
      " 23  surgical_lesion        1235 non-null   object \n",
      " 24  lesion_1               1235 non-null   int64  \n",
      " 25  lesion_2               1235 non-null   int64  \n",
      " 26  lesion_3               1235 non-null   int64  \n",
      " 27  cp_data                1235 non-null   object \n",
      " 28  outcome                1235 non-null   object \n",
      "dtypes: float64(7), int64(5), object(17)\n",
      "memory usage: 279.9+ KB\n"
     ]
    }
   ],
   "source": [
    "train_df.info()"
   ]
  },
  {
   "cell_type": "markdown",
   "metadata": {},
   "source": [
    "## 2.1 Dataset distribution by outcomes"
   ]
  },
  {
   "cell_type": "code",
   "execution_count": 7,
   "metadata": {},
   "outputs": [
    {
     "data": {
      "image/png": "[encoded data removed]",
      "text/plain": [
       "<Figure size 1000x700 with 1 Axes>"
      ]
     },
     "metadata": {
      "needs_background": "light"
     },
     "output_type": "display_data"
    }
   ],
   "source": [
    "\n",
    "\n",
    "plt.figure(figsize=(10, 7), dpi=100)\n",
    "plt.bar(train_df['outcome'].value_counts().keys(), train_df[\"outcome\"].value_counts(), color='#3caea3',\n",
    "        alpha=0.7, width=0.6, edgecolor='black', linewidth=1.2)\n",
    "plt.title(\"Horse treatment outcomes count\", fontsize=15, fontweight='bold', position=(0.25, 1.0+0.05))\n",
    "for i in train_df[\"outcome\"].unique():\n",
    "    plt.annotate(f\"{train_df['outcome'].value_counts()[i]}\", \n",
    "                   xy=(i, train_df['outcome'].value_counts()[i] + 8),\n",
    "                   va = 'center', ha='center',fontweight='bold', color='#383838'\n",
    "                   )"
   ]
  },
  {
   "cell_type": "markdown",
   "metadata": {},
   "source": [
    "Patients who lived make up almost 50% of the dataset"
   ]
  },
  {
   "cell_type": "markdown",
   "metadata": {},
   "source": [
    "## 2.2 Correlation matrix"
   ]
  },
  {
   "cell_type": "code",
   "execution_count": 8,
   "metadata": {},
   "outputs": [
    {
     "name": "stderr",
     "output_type": "stream",
     "text": [
      "<ipython-input-8-1a1de0dc90ea>:1: FutureWarning: The default value of numeric_only in DataFrame.corr is deprecated. In a future version, it will default to False. Select only valid columns or specify the value of numeric_only to silence this warning.\n",
      "  corr = train_df[list(train_df.columns)].corr()\n"
     ]
    },
    {
     "data": {
      "image/png": "[encoded data removed]",
      "text/plain": [
       "<Figure size 936x576 with 2 Axes>"
      ]
     },
     "metadata": {
      "needs_background": "light"
     },
     "output_type": "display_data"
    }
   ],
   "source": [
    "corr = train_df[list(train_df.columns)].corr()\n",
    "plt.figure(figsize = (13, 8))\n",
    "sns.heatmap(corr, cmap=plt.cm.CMRmap_r , annot = True, center = 0)\n",
    "plt.title('Correlation matrix', fontsize = 15)\n",
    "plt.show()\n"
   ]
  },
  {
   "cell_type": "markdown",
   "metadata": {},
   "source": [
    "lesion_3 is highly correlated with lesion_2"
   ]
  },
  {
   "cell_type": "code",
   "execution_count": 9,
   "metadata": {},
   "outputs": [
    {
     "data": {
      "text/plain": [
       "Index(['surgery', 'age', 'surgical_lesion', 'lesion_3', 'cp_data'], dtype='object')"
      ]
     },
     "execution_count": 9,
     "metadata": {},
     "output_type": "execute_result"
    }
   ],
   "source": [
    "# Columns to encode with 2 unique values\n",
    "train_df[[col for col in train_df.columns if len(train_df[col].unique()) == 2]].columns"
   ]
  },
  {
   "cell_type": "code",
   "execution_count": 10,
   "metadata": {},
   "outputs": [
    {
     "data": {
      "text/plain": [
       "Index(['temp_of_extremities', 'peripheral_pulse', 'mucous_membrane',\n",
       "       'capillary_refill_time', 'pain', 'peristalsis', 'abdominal_distention',\n",
       "       'nasogastric_tube', 'nasogastric_reflux', 'rectal_exam_feces',\n",
       "       'abdomen', 'abdomo_appearance'],\n",
       "      dtype='object')"
      ]
     },
     "execution_count": 10,
     "metadata": {},
     "output_type": "execute_result"
    }
   ],
   "source": [
    "# Columns to encode with one_hot_encoding with more than 2 unique options\n",
    "cols_with_more_than_3_values = train_df[[col for col in train_df.columns if (len(train_df[col].unique()) > 2 and\n",
    "                                     col != \"outcome\" and\n",
    "                                     train_df[col].dtype == 'O')]].columns\n",
    "cols_with_more_than_3_values"
   ]
  },
  {
   "cell_type": "code",
   "execution_count": 11,
   "metadata": {},
   "outputs": [
    {
     "name": "stdout",
     "output_type": "stream",
     "text": [
      "slight    1\n",
      "Name: pain, dtype: int64\n",
      "distend_small    1\n",
      "Name: peristalsis, dtype: int64\n",
      "slight    1\n",
      "Name: nasogastric_reflux, dtype: int64\n",
      "serosanguious    1\n",
      "Name: rectal_exam_feces, dtype: int64\n"
     ]
    }
   ],
   "source": [
    "# Finding columns with singlar unique value\n",
    "for col in cols_with_more_than_3_values:\n",
    "    potential_value = train_df[col].value_counts().loc[train_df[col].value_counts() == 1]\n",
    "    if len(potential_value) > 0:\n",
    "        print(potential_value)\n",
    "    "
   ]
  },
  {
   "cell_type": "markdown",
   "metadata": {},
   "source": [
    "## 3. General data preprocessing"
   ]
  },
  {
   "cell_type": "code",
   "execution_count": 12,
   "metadata": {},
   "outputs": [],
   "source": [
    "\n",
    "def preprocess_df(df: pd.DataFrame, test_set: bool):\n",
    "    df.copy()\n",
    "    # 1. Binary encoding\n",
    "    columns_to_binary_encode_yesno = [\"surgery\", \"surgical_lesion\", \"cp_data\"]\n",
    "    for col in columns_to_binary_encode_yesno: \n",
    "        df[col] = df[col].eq(\"yes\").mul(1)\n",
    "    \n",
    "    df[\"age\"] = df[\"age\"].eq(\"adult\").mul(1)\n",
    "    \n",
    "    # 2. Remapping outcomes\n",
    "    outcomes = {'lived': 0,\n",
    "                'died': 1, \n",
    "                'euthanized': 2}\n",
    "\n",
    "    if not test_set:\n",
    "        df['outcome'] = df['outcome'].map(outcomes) \n",
    "        \n",
    "    # 4. Encoding categorical features\n",
    "    \n",
    "    # Replacing rows with values appearing only once in the dataframe\n",
    "    df[\"pain\"] = df[\"pain\"].replace(\"slight\", \"moderate\")\n",
    "    df[\"peristalsis\"] = df[\"peristalsis\"].replace('distend_small', 'normal')\n",
    "    df[\"rectal_exam_feces\"] = df[\"rectal_exam_feces\"].replace('serosanguious', 'absent')\n",
    "    df[\"nasogastric_reflux\"] = df[\"nasogastric_reflux\"].replace('slight', 'none')\n",
    "    \n",
    "    df[\"temp_of_extremities\"] = df[\"temp_of_extremities\"].map({'cold': 0, 'cool': 1, 'normal': 2, 'warm': 3, 'None': 2})\n",
    "    df[\"peripheral_pulse\"] = df[\"peripheral_pulse\"].map({'absent': 0, 'reduced': 1, 'normal': 2, 'increased': 3, 'None': 2})\n",
    "    df[\"capillary_refill_time\"] = df[\"capillary_refill_time\"].map({'less_3_sec': 0, '3': 1, 'more_3_sec': 2, 'None': 3})\n",
    "    df[\"pain\"] = df[\"pain\"].map({'alert': 0, 'depressed': 1, 'moderate': 2, 'mild_pain': 3, 'severe_pain': 4, 'extreme_pain': 5, 'None': 1})\n",
    "    df[\"peristalsis\"] = df[\"peristalsis\"].map({'hypermotile': 0, 'normal': 1, 'hypomotile': 2, 'absent': 3, 'None': 1})\n",
    "    df[\"abdominal_distention\"] = df[\"abdominal_distention\"].map({'none': 0, 'slight': 1, 'moderate': 2, 'severe': 3, 'None': 0})\n",
    "    df[\"nasogastric_tube\"] = df[\"nasogastric_tube\"].map({'none': 0, 'slight': 1, 'significant': 2, 'None': 0})\n",
    "    df[\"nasogastric_reflux\"] = df[\"nasogastric_reflux\"].map({'less_1_liter': 0, 'none': 1, 'more_1_liter': 2, 'None': 1})\n",
    "    df[\"rectal_exam_feces\"] = df[\"rectal_exam_feces\"].map({'absent': 0, 'decreased': 1, 'normal': 2, 'increased': 3, 'None': 0})\n",
    "    df[\"abdomen\"] = df[\"abdomen\"].map({'normal': 0, 'other': 1, 'firm': 2,'distend_small': 3, 'distend_large': 4, 'None': 3})\n",
    "    df[\"abdomo_appearance\"] = df[\"abdomo_appearance\"].map({'clear': 0, 'cloudy': 1, 'serosanguious': 2, 'None': 2})\n",
    "    \n",
    "    # 5. One hot encoding additional column\n",
    "    df= pd.get_dummies(df, columns=[\"mucous_membrane\"])\n",
    "    \n",
    "    # 6. Dropping correlated dependent feature\n",
    "    df.drop('lesion_3',axis=1,inplace=True)\n",
    "        \n",
    "    return df\n",
    "    "
   ]
  },
  {
   "cell_type": "code",
   "execution_count": 13,
   "metadata": {},
   "outputs": [],
   "source": [
    "preprocessed_df = preprocess_df(train_df, False)\n"
   ]
  },
  {
   "cell_type": "code",
   "execution_count": 14,
   "metadata": {},
   "outputs": [
    {
     "data": {
      "text/plain": [
       "False"
      ]
     },
     "execution_count": 14,
     "metadata": {},
     "output_type": "execute_result"
    }
   ],
   "source": [
    "preprocessed_df.isnull().any().any()"
   ]
  },
  {
   "cell_type": "code",
   "execution_count": 15,
   "metadata": {},
   "outputs": [
    {
     "data": {
      "text/html": [
       "<div>\n",
       "<style scoped>\n",
       "    .dataframe tbody tr th:only-of-type {\n",
       "        vertical-align: middle;\n",
       "    }\n",
       "\n",
       "    .dataframe tbody tr th {\n",
       "        vertical-align: top;\n",
       "    }\n",
       "\n",
       "    .dataframe thead th {\n",
       "        text-align: right;\n",
       "    }\n",
       "</style>\n",
       "<table border=\"1\" class=\"dataframe\">\n",
       "  <thead>\n",
       "    <tr style=\"text-align: right;\">\n",
       "      <th></th>\n",
       "      <th>id</th>\n",
       "      <th>surgery</th>\n",
       "      <th>age</th>\n",
       "      <th>hospital_number</th>\n",
       "      <th>rectal_temp</th>\n",
       "      <th>pulse</th>\n",
       "      <th>respiratory_rate</th>\n",
       "      <th>temp_of_extremities</th>\n",
       "      <th>peripheral_pulse</th>\n",
       "      <th>capillary_refill_time</th>\n",
       "      <th>...</th>\n",
       "      <th>lesion_2</th>\n",
       "      <th>cp_data</th>\n",
       "      <th>outcome</th>\n",
       "      <th>mucous_membrane_None</th>\n",
       "      <th>mucous_membrane_bright_pink</th>\n",
       "      <th>mucous_membrane_bright_red</th>\n",
       "      <th>mucous_membrane_dark_cyanotic</th>\n",
       "      <th>mucous_membrane_normal_pink</th>\n",
       "      <th>mucous_membrane_pale_cyanotic</th>\n",
       "      <th>mucous_membrane_pale_pink</th>\n",
       "    </tr>\n",
       "  </thead>\n",
       "  <tbody>\n",
       "    <tr>\n",
       "      <th>0</th>\n",
       "      <td>0</td>\n",
       "      <td>1</td>\n",
       "      <td>1</td>\n",
       "      <td>530001</td>\n",
       "      <td>38.1</td>\n",
       "      <td>132.0</td>\n",
       "      <td>24.0</td>\n",
       "      <td>1</td>\n",
       "      <td>1</td>\n",
       "      <td>2</td>\n",
       "      <td>...</td>\n",
       "      <td>0</td>\n",
       "      <td>0</td>\n",
       "      <td>1</td>\n",
       "      <td>0</td>\n",
       "      <td>0</td>\n",
       "      <td>0</td>\n",
       "      <td>1</td>\n",
       "      <td>0</td>\n",
       "      <td>0</td>\n",
       "      <td>0</td>\n",
       "    </tr>\n",
       "    <tr>\n",
       "      <th>1</th>\n",
       "      <td>1</td>\n",
       "      <td>1</td>\n",
       "      <td>1</td>\n",
       "      <td>533836</td>\n",
       "      <td>37.5</td>\n",
       "      <td>88.0</td>\n",
       "      <td>12.0</td>\n",
       "      <td>1</td>\n",
       "      <td>2</td>\n",
       "      <td>2</td>\n",
       "      <td>...</td>\n",
       "      <td>0</td>\n",
       "      <td>0</td>\n",
       "      <td>2</td>\n",
       "      <td>0</td>\n",
       "      <td>0</td>\n",
       "      <td>0</td>\n",
       "      <td>0</td>\n",
       "      <td>0</td>\n",
       "      <td>1</td>\n",
       "      <td>0</td>\n",
       "    </tr>\n",
       "    <tr>\n",
       "      <th>2</th>\n",
       "      <td>2</td>\n",
       "      <td>1</td>\n",
       "      <td>1</td>\n",
       "      <td>529812</td>\n",
       "      <td>38.3</td>\n",
       "      <td>120.0</td>\n",
       "      <td>28.0</td>\n",
       "      <td>1</td>\n",
       "      <td>1</td>\n",
       "      <td>0</td>\n",
       "      <td>...</td>\n",
       "      <td>0</td>\n",
       "      <td>0</td>\n",
       "      <td>0</td>\n",
       "      <td>0</td>\n",
       "      <td>0</td>\n",
       "      <td>0</td>\n",
       "      <td>0</td>\n",
       "      <td>0</td>\n",
       "      <td>0</td>\n",
       "      <td>1</td>\n",
       "    </tr>\n",
       "    <tr>\n",
       "      <th>3</th>\n",
       "      <td>3</td>\n",
       "      <td>1</td>\n",
       "      <td>1</td>\n",
       "      <td>5262541</td>\n",
       "      <td>37.1</td>\n",
       "      <td>72.0</td>\n",
       "      <td>30.0</td>\n",
       "      <td>0</td>\n",
       "      <td>1</td>\n",
       "      <td>2</td>\n",
       "      <td>...</td>\n",
       "      <td>0</td>\n",
       "      <td>1</td>\n",
       "      <td>0</td>\n",
       "      <td>0</td>\n",
       "      <td>0</td>\n",
       "      <td>0</td>\n",
       "      <td>0</td>\n",
       "      <td>0</td>\n",
       "      <td>0</td>\n",
       "      <td>1</td>\n",
       "    </tr>\n",
       "    <tr>\n",
       "      <th>4</th>\n",
       "      <td>4</td>\n",
       "      <td>0</td>\n",
       "      <td>1</td>\n",
       "      <td>5299629</td>\n",
       "      <td>38.0</td>\n",
       "      <td>52.0</td>\n",
       "      <td>48.0</td>\n",
       "      <td>2</td>\n",
       "      <td>2</td>\n",
       "      <td>0</td>\n",
       "      <td>...</td>\n",
       "      <td>0</td>\n",
       "      <td>1</td>\n",
       "      <td>0</td>\n",
       "      <td>0</td>\n",
       "      <td>0</td>\n",
       "      <td>0</td>\n",
       "      <td>0</td>\n",
       "      <td>1</td>\n",
       "      <td>0</td>\n",
       "      <td>0</td>\n",
       "    </tr>\n",
       "    <tr>\n",
       "      <th>5</th>\n",
       "      <td>5</td>\n",
       "      <td>0</td>\n",
       "      <td>1</td>\n",
       "      <td>529642</td>\n",
       "      <td>38.1</td>\n",
       "      <td>56.0</td>\n",
       "      <td>32.0</td>\n",
       "      <td>2</td>\n",
       "      <td>2</td>\n",
       "      <td>0</td>\n",
       "      <td>...</td>\n",
       "      <td>0</td>\n",
       "      <td>1</td>\n",
       "      <td>0</td>\n",
       "      <td>0</td>\n",
       "      <td>1</td>\n",
       "      <td>0</td>\n",
       "      <td>0</td>\n",
       "      <td>0</td>\n",
       "      <td>0</td>\n",
       "      <td>0</td>\n",
       "    </tr>\n",
       "    <tr>\n",
       "      <th>6</th>\n",
       "      <td>6</td>\n",
       "      <td>1</td>\n",
       "      <td>1</td>\n",
       "      <td>534787</td>\n",
       "      <td>38.3</td>\n",
       "      <td>36.0</td>\n",
       "      <td>16.0</td>\n",
       "      <td>1</td>\n",
       "      <td>1</td>\n",
       "      <td>0</td>\n",
       "      <td>...</td>\n",
       "      <td>0</td>\n",
       "      <td>1</td>\n",
       "      <td>2</td>\n",
       "      <td>0</td>\n",
       "      <td>0</td>\n",
       "      <td>0</td>\n",
       "      <td>0</td>\n",
       "      <td>1</td>\n",
       "      <td>0</td>\n",
       "      <td>0</td>\n",
       "    </tr>\n",
       "    <tr>\n",
       "      <th>7</th>\n",
       "      <td>7</td>\n",
       "      <td>0</td>\n",
       "      <td>1</td>\n",
       "      <td>529461</td>\n",
       "      <td>39.2</td>\n",
       "      <td>114.0</td>\n",
       "      <td>24.0</td>\n",
       "      <td>1</td>\n",
       "      <td>1</td>\n",
       "      <td>2</td>\n",
       "      <td>...</td>\n",
       "      <td>0</td>\n",
       "      <td>1</td>\n",
       "      <td>1</td>\n",
       "      <td>0</td>\n",
       "      <td>0</td>\n",
       "      <td>0</td>\n",
       "      <td>0</td>\n",
       "      <td>0</td>\n",
       "      <td>1</td>\n",
       "      <td>0</td>\n",
       "    </tr>\n",
       "    <tr>\n",
       "      <th>8</th>\n",
       "      <td>8</td>\n",
       "      <td>0</td>\n",
       "      <td>1</td>\n",
       "      <td>528742</td>\n",
       "      <td>37.4</td>\n",
       "      <td>48.0</td>\n",
       "      <td>12.0</td>\n",
       "      <td>1</td>\n",
       "      <td>1</td>\n",
       "      <td>0</td>\n",
       "      <td>...</td>\n",
       "      <td>0</td>\n",
       "      <td>1</td>\n",
       "      <td>0</td>\n",
       "      <td>0</td>\n",
       "      <td>0</td>\n",
       "      <td>0</td>\n",
       "      <td>0</td>\n",
       "      <td>1</td>\n",
       "      <td>0</td>\n",
       "      <td>0</td>\n",
       "    </tr>\n",
       "    <tr>\n",
       "      <th>9</th>\n",
       "      <td>9</td>\n",
       "      <td>1</td>\n",
       "      <td>1</td>\n",
       "      <td>529640</td>\n",
       "      <td>38.3</td>\n",
       "      <td>129.0</td>\n",
       "      <td>48.0</td>\n",
       "      <td>1</td>\n",
       "      <td>1</td>\n",
       "      <td>0</td>\n",
       "      <td>...</td>\n",
       "      <td>0</td>\n",
       "      <td>1</td>\n",
       "      <td>1</td>\n",
       "      <td>0</td>\n",
       "      <td>0</td>\n",
       "      <td>0</td>\n",
       "      <td>0</td>\n",
       "      <td>0</td>\n",
       "      <td>0</td>\n",
       "      <td>1</td>\n",
       "    </tr>\n",
       "  </tbody>\n",
       "</table>\n",
       "<p>10 rows × 34 columns</p>\n",
       "</div>"
      ],
      "text/plain": [
       "   id  surgery  age  hospital_number  rectal_temp  pulse  respiratory_rate  \\\n",
       "0   0        1    1           530001         38.1  132.0              24.0   \n",
       "1   1        1    1           533836         37.5   88.0              12.0   \n",
       "2   2        1    1           529812         38.3  120.0              28.0   \n",
       "3   3        1    1          5262541         37.1   72.0              30.0   \n",
       "4   4        0    1          5299629         38.0   52.0              48.0   \n",
       "5   5        0    1           529642         38.1   56.0              32.0   \n",
       "6   6        1    1           534787         38.3   36.0              16.0   \n",
       "7   7        0    1           529461         39.2  114.0              24.0   \n",
       "8   8        0    1           528742         37.4   48.0              12.0   \n",
       "9   9        1    1           529640         38.3  129.0              48.0   \n",
       "\n",
       "   temp_of_extremities  peripheral_pulse  capillary_refill_time  ...  \\\n",
       "0                    1                 1                      2  ...   \n",
       "1                    1                 2                      2  ...   \n",
       "2                    1                 1                      0  ...   \n",
       "3                    0                 1                      2  ...   \n",
       "4                    2                 2                      0  ...   \n",
       "5                    2                 2                      0  ...   \n",
       "6                    1                 1                      0  ...   \n",
       "7                    1                 1                      2  ...   \n",
       "8                    1                 1                      0  ...   \n",
       "9                    1                 1                      0  ...   \n",
       "\n",
       "   lesion_2  cp_data  outcome  mucous_membrane_None  \\\n",
       "0         0        0        1                     0   \n",
       "1         0        0        2                     0   \n",
       "2         0        0        0                     0   \n",
       "3         0        1        0                     0   \n",
       "4         0        1        0                     0   \n",
       "5         0        1        0                     0   \n",
       "6         0        1        2                     0   \n",
       "7         0        1        1                     0   \n",
       "8         0        1        0                     0   \n",
       "9         0        1        1                     0   \n",
       "\n",
       "   mucous_membrane_bright_pink  mucous_membrane_bright_red  \\\n",
       "0                            0                           0   \n",
       "1                            0                           0   \n",
       "2                            0                           0   \n",
       "3                            0                           0   \n",
       "4                            0                           0   \n",
       "5                            1                           0   \n",
       "6                            0                           0   \n",
       "7                            0                           0   \n",
       "8                            0                           0   \n",
       "9                            0                           0   \n",
       "\n",
       "   mucous_membrane_dark_cyanotic  mucous_membrane_normal_pink  \\\n",
       "0                              1                            0   \n",
       "1                              0                            0   \n",
       "2                              0                            0   \n",
       "3                              0                            0   \n",
       "4                              0                            1   \n",
       "5                              0                            0   \n",
       "6                              0                            1   \n",
       "7                              0                            0   \n",
       "8                              0                            1   \n",
       "9                              0                            0   \n",
       "\n",
       "   mucous_membrane_pale_cyanotic  mucous_membrane_pale_pink  \n",
       "0                              0                          0  \n",
       "1                              1                          0  \n",
       "2                              0                          1  \n",
       "3                              0                          1  \n",
       "4                              0                          0  \n",
       "5                              0                          0  \n",
       "6                              0                          0  \n",
       "7                              1                          0  \n",
       "8                              0                          0  \n",
       "9                              0                          1  \n",
       "\n",
       "[10 rows x 34 columns]"
      ]
     },
     "execution_count": 15,
     "metadata": {},
     "output_type": "execute_result"
    }
   ],
   "source": [
    "preprocessed_df.head(10)\n"
   ]
  },
  {
   "cell_type": "code",
   "execution_count": 16,
   "metadata": {},
   "outputs": [],
   "source": [
    "preprcessed_test_df = preprocess_df(test_df, True)"
   ]
  },
  {
   "cell_type": "markdown",
   "metadata": {},
   "source": [
    "## 4. Modelling 1.0"
   ]
  },
  {
   "cell_type": "code",
   "execution_count": 17,
   "metadata": {},
   "outputs": [],
   "source": [
    "from sklearn.metrics import f1_score\n",
    "from sklearn.model_selection import KFold\n"
   ]
  },
  {
   "cell_type": "code",
   "execution_count": 18,
   "metadata": {},
   "outputs": [],
   "source": [
    "X = preprocessed_df.drop([\"outcome\", \"id\"], axis=1)\n",
    "y = preprocessed_df[\"outcome\"]"
   ]
  },
  {
   "cell_type": "code",
   "execution_count": 19,
   "metadata": {},
   "outputs": [],
   "source": [
    "# X_train, X_test, y_train, y_test = train_test_split(X, y, test_size=0.15, random_state=42) \n",
    "kf = KFold(n_splits=8)"
   ]
  },
  {
   "cell_type": "markdown",
   "metadata": {},
   "source": [
    "### 4.1 XGB (default)"
   ]
  },
  {
   "cell_type": "code",
   "execution_count": 20,
   "metadata": {},
   "outputs": [],
   "source": [
    "import xgboost as xgb\n"
   ]
  },
  {
   "cell_type": "code",
   "execution_count": 21,
   "metadata": {},
   "outputs": [
    {
     "name": "stdout",
     "output_type": "stream",
     "text": [
      "Average model F1 score: 0.7109447004608296\n"
     ]
    }
   ],
   "source": [
    "f1_scores_xgb = []\n",
    "\n",
    "model__xgb_default = xgb.XGBClassifier(objective='multi:softmax', \n",
    "                            num_class=3, \n",
    "                            early_stopping_rounds=10, \n",
    "                            eval_metric=['merror', 'mlogloss'], \n",
    "                            seed=42)\n",
    "\n",
    "for train_index, test_index in kf.split(X):\n",
    "    X_train, X_test = X.iloc[train_index], X.iloc[test_index]\n",
    "    y_train, y_test = y.iloc[train_index], y.iloc[test_index]\n",
    "    \n",
    "    model__xgb_default.fit(X_train, \n",
    "                y_train,\n",
    "                verbose=0,\n",
    "                eval_set=[(X_train, y_train), (X_test, y_test)])\n",
    "    \n",
    "    xgb_def_preds = model__xgb_default.predict(X_test)\n",
    "    \n",
    "    f1_scores_xgb.append(f1_score(y_test, xgb_def_preds, average='micro'))\n",
    "\n",
    "print(\"Average model F1 score: {}\".format(np.average(f1_scores_xgb)))\n"
   ]
  },
  {
   "cell_type": "markdown",
   "metadata": {},
   "source": [
    "#### Tuned"
   ]
  },
  {
   "cell_type": "code",
   "execution_count": 26,
   "metadata": {},
   "outputs": [],
   "source": [
    "from hyperopt import fmin, tpe, hp, STATUS_OK\n",
    "from sklearn.model_selection import train_test_split\n",
    "from hyperopt.pyll import scope"
   ]
  },
  {
   "cell_type": "code",
   "execution_count": 27,
   "metadata": {},
   "outputs": [
    {
     "name": "stdout",
     "output_type": "stream",
     "text": [
      "100%|██████████| 100/100 [00:14<00:00,  6.89trial/s, best loss: -0.6935483870967742]\n",
      "Best set of hyperparameters:  {'learning_rate': 0.0929001213267843, 'max_depth': 7.0, 'subsample': 0.5165249283838895}\n"
     ]
    }
   ],
   "source": [
    "# Define the hyperparameter space\n",
    "space = {\n",
    "    'max_depth': scope.int(hp.quniform('max_depth', 2, 8, 1)),\n",
    "    'learning_rate': hp.loguniform('learning_rate', -5, -2),\n",
    "    'subsample': hp.uniform('subsample', 0.5, 1)\n",
    "}\n",
    "\n",
    "X_train, X_test, y_train, y_test = train_test_split(X, y, test_size=0.15)\n",
    "\n",
    "# Define the objective function to minimize\n",
    "def objective(params):\n",
    "    xgb_model = xgb.XGBClassifier(objective='multi:softmax', \n",
    "                                  num_class=3,\n",
    "                                  **params,\n",
    "                                  seed=42)\n",
    "    xgb_model.fit(X_train, y_train)\n",
    "    y_pred = xgb_model.predict(X_test)\n",
    "    score = f1_score(y_test, y_pred, average='micro')\n",
    "    return {'loss': -score, 'status': STATUS_OK}\n",
    "\n",
    "# Perform the optimization\n",
    "best_params = fmin(objective, space, algo=tpe.suggest, max_evals=100)\n",
    "print(\"Best set of hyperparameters: \", best_params)"
   ]
  },
  {
   "cell_type": "code",
   "execution_count": 28,
   "metadata": {},
   "outputs": [
    {
     "name": "stdout",
     "output_type": "stream",
     "text": [
      "Average model F1 score: 0.721470465018852\n"
     ]
    }
   ],
   "source": [
    "f1_scores_xgb_tuned = []\n",
    "\n",
    "model_xgb_tuned = xgb.XGBClassifier(objective='multi:softmax', \n",
    "                            num_class=3, \n",
    "                            early_stopping_rounds=10, \n",
    "                            eval_metric=['merror', 'mlogloss'], \n",
    "                            learning_rate=0.0929001213267843,\n",
    "                            max_depth=7,\n",
    "                            subsample=0.5165249283838895,\n",
    "                            seed=42)\n",
    "\n",
    "for train_index, test_index in kf.split(X):\n",
    "    X_train, X_test = X.iloc[train_index], X.iloc[test_index]\n",
    "    y_train, y_test = y.iloc[train_index], y.iloc[test_index]\n",
    "    \n",
    "    model_xgb_tuned.fit(X_train, \n",
    "                y_train,\n",
    "                verbose=0,\n",
    "                eval_set=[(X_train, y_train), (X_test, y_test)])\n",
    "    \n",
    "    xgb_def_preds = model_xgb_tuned.predict(X_test)\n",
    "    \n",
    "    f1_scores_xgb_tuned.append(f1_score(y_test, xgb_def_preds, average='micro'))\n",
    "\n",
    "print(\"Average model F1 score: {}\".format(np.average(f1_scores_xgb_tuned)))"
   ]
  },
  {
   "cell_type": "markdown",
   "metadata": {},
   "source": [
    "After tuning the average F1 Score increased by 1"
   ]
  },
  {
   "cell_type": "markdown",
   "metadata": {},
   "source": [
    "### 4.2 CatBoost\n"
   ]
  },
  {
   "cell_type": "code",
   "execution_count": null,
   "metadata": {},
   "outputs": [],
   "source": [
    "from catboost import CatBoostClassifier"
   ]
  },
  {
   "cell_type": "code",
   "execution_count": null,
   "metadata": {},
   "outputs": [],
   "source": [
    "f1_scores_cat = []\n",
    "\n",
    "for train_index, test_index in kf.split(X):\n",
    "    X_train, X_test = X.iloc[train_index], X.iloc[test_index]\n",
    "    y_train, y_test = y.iloc[train_index], y.iloc[test_index]\n",
    "    \n",
    "    cat_md = CatBoostClassifier(loss_function = 'MultiClass',\n",
    "                                    iterations = 500,\n",
    "                                    learning_rate = 0.01,\n",
    "                                    depth = 7,\n",
    "                                    random_strength = 0.5,\n",
    "                                    bagging_temperature = 0.7,\n",
    "                                    border_count = 30,\n",
    "                                    l2_leaf_reg = 5,\n",
    "                                    verbose = False, \n",
    "                                    task_type = 'GPU').fit(X_train, y_train)\n",
    "\n",
    "    cat_pred = cat_md.predict(X_test) \n",
    "    \n",
    "    f1_scores_cat.append(f1_score(y_test, cat_pred, average='micro'))\n",
    "    \n",
    "print(\"Average model F1 score: {}\".format(np.average(f1_scores_cat)))"
   ]
  },
  {
   "cell_type": "markdown",
   "metadata": {},
   "source": [
    "### 4.3 LightGBM"
   ]
  },
  {
   "cell_type": "code",
   "execution_count": null,
   "metadata": {},
   "outputs": [],
   "source": [
    "import lightgbm as lgb\n",
    "from lightgbm import LGBMClassifier\n"
   ]
  },
  {
   "cell_type": "code",
   "execution_count": null,
   "metadata": {},
   "outputs": [],
   "source": [
    "f1_scores_lgb = []\n",
    "\n",
    "model_lgb_default = LGBMClassifier(num_iterations=200,\n",
    "                                   max_depth=10,\n",
    "                                   objective='multiclass',\n",
    "                                   verbose=-1)\n",
    "\n",
    "for train_index, test_index in kf.split(X):\n",
    "    X_train, X_test = X.iloc[train_index], X.iloc[test_index]\n",
    "    y_train, y_test = y.iloc[train_index], y.iloc[test_index]\n",
    "\n",
    "    model_lgb_default.fit(X_train, y_train, eval_set=[(X_test, y_test)], callbacks=[lgb.early_stopping(10, verbose=False)], verbose=False)\n",
    "    \n",
    "    lgb_preds = model_lgb_default.predict(X_test)\n",
    "    \n",
    "    f1_scores_lgb.append(f1_score(y_test, lgb_preds, average='micro'))\n",
    "\n",
    "print(\"Average model F1 score: {}\".format(np.average(f1_scores_lgb)))"
   ]
  },
  {
   "cell_type": "markdown",
   "metadata": {},
   "source": [
    "## 5. Prediction and submission"
   ]
  },
  {
   "cell_type": "code",
   "execution_count": null,
   "metadata": {},
   "outputs": [],
   "source": [
    "preprcessed_test_df.head()"
   ]
  },
  {
   "cell_type": "code",
   "execution_count": null,
   "metadata": {},
   "outputs": [],
   "source": [
    "preprcessed_test_df.drop(['id'], axis=1, inplace=True)"
   ]
  },
  {
   "cell_type": "code",
   "execution_count": null,
   "metadata": {},
   "outputs": [],
   "source": [
    "xgb_predictions = model__xgb_default.predict(preprcessed_test_df)"
   ]
  },
  {
   "cell_type": "code",
   "execution_count": null,
   "metadata": {},
   "outputs": [],
   "source": [
    "cat_predictions = cat_md.predict(preprcessed_test_df)"
   ]
  },
  {
   "cell_type": "code",
   "execution_count": null,
   "metadata": {},
   "outputs": [],
   "source": [
    "lgb_predictions = model_lgb_default.predict(preprcessed_test_df)"
   ]
  },
  {
   "cell_type": "code",
   "execution_count": null,
   "metadata": {},
   "outputs": [],
   "source": [
    "predictions = pd.concat([pd.Series(xgb_predictions.flatten()),\n",
    "                         pd.Series(cat_predictions.flatten()),\n",
    "                         pd.Series(lgb_predictions.flatten())], axis=1)\n",
    "predictions"
   ]
  },
  {
   "cell_type": "code",
   "execution_count": null,
   "metadata": {},
   "outputs": [],
   "source": [
    "from scipy.stats import mode"
   ]
  },
  {
   "cell_type": "code",
   "execution_count": null,
   "metadata": {},
   "outputs": [],
   "source": [
    "predictions_ensemble = mode(predictions, axis=1, keepdims=True)[0]"
   ]
  },
  {
   "cell_type": "code",
   "execution_count": null,
   "metadata": {},
   "outputs": [],
   "source": [
    "predictions_ensemble"
   ]
  },
  {
   "cell_type": "code",
   "execution_count": null,
   "metadata": {},
   "outputs": [],
   "source": [
    "submission = pd.read_csv(\"./playground-series-s3e22/sample_submission.csv\")\n",
    "submission"
   ]
  },
  {
   "cell_type": "code",
   "execution_count": null,
   "metadata": {},
   "outputs": [],
   "source": [
    "\n",
    "submission['outcome'] = predictions_ensemble\n",
    "submission['outcome'] = submission['outcome'].map({0: 'lived', 1: 'died', 2: 'euthanized'})\n",
    "submission.to_csv('predictions.csv', index = False)\n",
    "submission.head()"
   ]
  },
  {
   "cell_type": "code",
   "execution_count": null,
   "metadata": {},
   "outputs": [],
   "source": []
  }
 ],
 "metadata": {
  "kernelspec": {
   "display_name": "tf",
   "language": "python",
   "name": "python3"
  },
  "language_info": {
   "codemirror_mode": {
    "name": "ipython",
    "version": 3
   },
   "file_extension": ".py",
   "mimetype": "text/x-python",
   "name": "python",
   "nbconvert_exporter": "python",
   "pygments_lexer": "ipython3",
   "version": "3.9.17"
  },
  "orig_nbformat": 4
 },
 "nbformat": 4,
 "nbformat_minor": 2
}
